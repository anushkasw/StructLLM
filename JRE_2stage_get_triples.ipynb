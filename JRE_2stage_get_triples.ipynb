{
 "cells": [
  {
   "cell_type": "code",
   "execution_count": 12,
   "id": "cd7a3544-db8e-4545-a224-6d4f74ea2c7c",
   "metadata": {
    "tags": []
   },
   "outputs": [],
   "source": [
    "import pandas as pd\n",
    "import json\n",
    "from pathlib import Path\n",
    "from tqdm import tqdm\n",
    "import re\n",
    "import ast\n",
    "import os\n",
    "from rel_verbaliser import get_rel2prompt"
   ]
  },
  {
   "cell_type": "code",
   "execution_count": 13,
   "id": "78c7d36c-8736-48b5-ba17-1da92c7a8dd1",
   "metadata": {
    "tags": []
   },
   "outputs": [],
   "source": [
    "def parse_string_to_list_of_lists(s):\n",
    "    extracted_text = re.sub(r'\\]\\s*,?\\s*\\[', '],[', s)\n",
    "    extracted_list = extracted_text.split('],[')\n",
    "    extracted_list = [s.strip('[]') for s in extracted_list]\n",
    "    list_of_lists = []\n",
    "    for inner_list in extracted_list:\n",
    "        elements = [elem.strip().strip('\"').strip(\"'\").strip('`').strip('[').strip(']').lower() for elem in inner_list.split(',')]\n",
    "        if len(elements)==3:\n",
    "            list_of_lists.append(elements)\n",
    "    return list_of_lists"
   ]
  },
  {
   "cell_type": "code",
   "execution_count": 14,
   "id": "e50f2500-2aaf-4bcd-a414-c06153f9b6e9",
   "metadata": {
    "tags": []
   },
   "outputs": [],
   "source": [
    "def extract_mistral(text):\n",
    "    str_ = text.replace('\\n','')\n",
    "    triplet_marker = \"$TRIPLETS$ =\"\n",
    "    triplet_string = str_[str_.find(triplet_marker) + len(triplet_marker):len(str_)].strip().replace(\"</s>\",\"\")\n",
    "    triple_list = parse_string_to_list_of_lists(triplet_string)\n",
    "    return triple_list"
   ]
  },
  {
   "cell_type": "code",
   "execution_count": 15,
   "id": "bc817f66-1d31-4a06-940e-435e8879a5ab",
   "metadata": {
    "tags": []
   },
   "outputs": [],
   "source": [
    "def extract_llama(text):\n",
    "    str_ = text.replace('\\n','')\n",
    "    triplet_marker = \"$TRIPLETS$ =\"\n",
    "    triplet_string = str_[str_.find(triplet_marker) + len(triplet_marker):len(str_)].strip().replace(\"<|eot_id|>\",\"\")\n",
    "    triple_list = parse_string_to_list_of_lists(triplet_string)\n",
    "    return triple_list"
   ]
  },
  {
   "cell_type": "code",
   "execution_count": 16,
   "id": "011b237b-3830-42ce-9f56-4789e156b3f2",
   "metadata": {
    "tags": []
   },
   "outputs": [],
   "source": [
    "def extract_openchat(text):\n",
    "    str_ = text.replace('\\n','')\n",
    "    triplet_marker = \"$TRIPLETS$ =\"\n",
    "    triplet_string = str_[str_.find(triplet_marker) + len(triplet_marker):len(str_)].strip().replace(\"<|end_of_turn|>\",\"\")\n",
    "    triple_list = parse_string_to_list_of_lists(triplet_string)\n",
    "    return triple_list"
   ]
  },
  {
   "cell_type": "code",
   "execution_count": 17,
   "id": "6b91cf9d-8dcb-471e-80d5-b7fed876ae89",
   "metadata": {
    "tags": []
   },
   "outputs": [],
   "source": [
    "def extract_gemma(text):\n",
    "    str_ = text.replace('\\n','')\n",
    "    triplet_marker = \"$TRIPLETS$ =\"\n",
    "    triplet_string = str_[str_.find(triplet_marker) + len(triplet_marker):len(str_)].replace(\"<end_of_turn><eos>\",\"\").strip()\n",
    "    triple_list = parse_string_to_list_of_lists(triplet_string)\n",
    "    return triple_list"
   ]
  },
  {
   "cell_type": "code",
   "execution_count": 21,
   "id": "f5762355-54b2-43d0-aef4-7db630ed7985",
   "metadata": {
    "tags": []
   },
   "outputs": [],
   "source": [
    "data_dir = './Data_JRE'\n",
    "llm_result_path = './results'\n",
    "out_path = './Results'\n",
    "exp = '2stage'\n",
    "datasets = ['crossRE', 'tacred_new', 'NYT10']\n",
    "models = [\"openchat/openchat_3.5\", \"meta-llama/Meta-Llama-3.1-8B-Instruct\", \"mistralai/Mistral-Nemo-Instruct-2407\", \"google/gemma-2-9b-it\"]"
   ]
  },
  {
   "cell_type": "code",
   "execution_count": 19,
   "id": "a5ca0272-d965-47bf-b527-afba2add881b",
   "metadata": {
    "tags": []
   },
   "outputs": [],
   "source": [
    "def get_info(exp, file):\n",
    "    parts = file.parts\n",
    "    struct, prompt, demo, seed, k = None, None, None, None, None\n",
    "    if exp=='plm':\n",
    "        seed = file.parts[-1].split('.')[0][-1]\n",
    "    elif exp=='structure_extract':\n",
    "        prompt = parts[-1].split('_')[-1].split('-')[1]\n",
    "        struct = parts[-1].split('_')[-1].split('-')[0]\n",
    "        k = int(parts[-1].split('_')[-1].split('-')[-1].split('.')[0])\n",
    "        seed = parts[-2].split('-')[-1]\n",
    "        demo = parts[-3]\n",
    "    else:\n",
    "        prompt = parts[-1].split('-')[0]\n",
    "        k = int(parts[-1].split('_')[-1].split('-')[-1].split('.')[0])\n",
    "        seed = parts[-2].split('-')[-1]\n",
    "        demo = parts[-3]\n",
    "    return struct, prompt, seed, demo, k"
   ]
  },
  {
   "cell_type": "code",
   "execution_count": 20,
   "id": "a5223aa7-fbf1-46da-b59e-61d8004e6d6a",
   "metadata": {
    "tags": []
   },
   "outputs": [],
   "source": [
    "def extract_gpt(text):\n",
    "    triplet_patterns = [\n",
    "        r\".*TRIPLETS\\s*(\\[\\[.*?\\]\\])\",  # Standard TRIPLETS = [[...]]\n",
    "        r\".*TRIPLETS\\s*[:=]\\s*(\\[[\\s\\S,'\\w\\s]*\\]?)\",  # Standard TRIPLETS = [[...]]\n",
    "        r\".*Triplets\\s*[:=]\\s*(\\[[\\s\\S,'\\w\\s]*\\]?)\",  # Standard TRIPLETS = [[...]]\n",
    "        r\".*TRIPLETS\\$\\s*[:=]?\\s*(\\[[\\s\\S,'\\w\\s]*\\]?)\",  # Matches $TRIPLETS$ variations\n",
    "        r\".*list of triplets are\\s*(\\[[\\s\\S,'\\w\\s]*\\]?)\",  # Handles descriptive cases\n",
    "        r\".*list of triplets is\\s*(\\[[\\s\\S,'\\w\\s]*\\]?)\",  # Handles descriptive cases\n",
    "    r\".*TRIPLETS\\s*[:=]\\s*(\\[[\\s\\S,'\\w\\s]*\\]?)\",  # Multi-line safe handling\n",
    "]\n",
    "\n",
    "    triplets = []\n",
    "\n",
    "    for pattern in triplet_patterns:\n",
    "        try:\n",
    "            match = re.search(pattern, text, re.DOTALL)\n",
    "            if match:\n",
    "                triplets = parse_string_to_list_of_lists(match.group(1))\n",
    "                break\n",
    "        except:\n",
    "            print(text)\n",
    "            pass\n",
    "\n",
    "    return triplets"
   ]
  },
  {
   "cell_type": "code",
   "execution_count": 27,
   "id": "843c1839-22ea-4ffc-922e-d1644f44227d",
   "metadata": {
    "tags": []
   },
   "outputs": [
    {
     "name": "stdout",
     "output_type": "stream",
     "text": [
      "crossRE\n"
     ]
    },
    {
     "name": "stderr",
     "output_type": "stream",
     "text": [
      "100%|██████████| 1826/1826 [00:00<00:00, 30363.38it/s]\n"
     ]
    },
    {
     "name": "stdout",
     "output_type": "stream",
     "text": [
      "openchat/openchat_3.5\n",
      "meta-llama/Meta-Llama-3.1-8B-Instruct\n",
      "mistralai/Mistral-Nemo-Instruct-2407\n",
      "google/gemma-2-9b-it\n",
      "tacred_new\n"
     ]
    },
    {
     "name": "stderr",
     "output_type": "stream",
     "text": [
      "100%|██████████| 2307/2307 [00:00<00:00, 130827.44it/s]\n"
     ]
    },
    {
     "name": "stdout",
     "output_type": "stream",
     "text": [
      "openchat/openchat_3.5\n",
      "meta-llama/Meta-Llama-3.1-8B-Instruct\n",
      "mistralai/Mistral-Nemo-Instruct-2407\n",
      "google/gemma-2-9b-it\n",
      "NYT10\n"
     ]
    },
    {
     "name": "stderr",
     "output_type": "stream",
     "text": [
      "100%|██████████| 4006/4006 [00:00<00:00, 133504.81it/s]"
     ]
    },
    {
     "name": "stdout",
     "output_type": "stream",
     "text": [
      "openchat/openchat_3.5\n",
      "meta-llama/Meta-Llama-3.1-8B-Instruct\n",
      "mistralai/Mistral-Nemo-Instruct-2407\n",
      "google/gemma-2-9b-it\n"
     ]
    },
    {
     "name": "stderr",
     "output_type": "stream",
     "text": [
      "\n"
     ]
    }
   ],
   "source": [
    "for data in datasets:\n",
    "    print(data)\n",
    "    data_dict = {}\n",
    "    with open(f'{data_dir}/{data}/rel2id.json', \"r\") as f:\n",
    "        rel2id = json.load(f)\n",
    "        \n",
    "    rel2prompt = get_rel2prompt(data, rel2id)\n",
    "    prompt2rel = {v:k for k, v in rel2prompt.items()}\n",
    "    \n",
    "    with open(f'{data_dir}/{data}/test.jsonl', \"r\") as f:\n",
    "        for line in tqdm(f.read().splitlines()):\n",
    "            tmp_dict = json.loads(line)\n",
    "            triple_list = []\n",
    "            for triple in tmp_dict['relationMentions']:\n",
    "                triple_list.append([triple['em1Text'].lower(), rel2prompt[triple['label']].lower(), triple['em2Text'].lower()])\n",
    "            row = {\n",
    "                'triples': triple_list\n",
    "            }\n",
    "            data_dict[tmp_dict['sample_id']] = row\n",
    "            \n",
    "        \n",
    "    for model in models:\n",
    "        print(model)\n",
    "        llm = model.split('/')[-1]\n",
    "        files = list(Path(f'{llm_result_path}/JRE/{exp}/{model}/{data}'\n",
    "                         ).rglob('*.jsonl'))\n",
    "        \n",
    "        \n",
    "        for file in files:\n",
    "            records = []\n",
    "            count = 0\n",
    "            struct, prompt, seed, demo, k = get_info(exp, file)\n",
    "            \n",
    "            if prompt in ['rel', 'open']:\n",
    "                output_file = f'{out_path}/JRE/{exp}/{data}/{model}/{demo}/seed-{seed}'\n",
    "                if not os.path.exists(f'{output_file}/{file.name}'):\n",
    "                    os.makedirs(output_file, exist_ok=True)\n",
    "\n",
    "                    examples = {}\n",
    "                    with open(file, \"r\") as f:\n",
    "                        for line in f.read().splitlines():\n",
    "                            res_dict = json.loads(line)\n",
    "                            examples[res_dict['id']] = res_dict\n",
    "\n",
    "                    for key, val in examples.items():\n",
    "                        label_true = data_dict[key]['triples']\n",
    "                        if val['label_pred']:\n",
    "                            if llm==\"openchat_3.5\":\n",
    "                                label_pred = extract_openchat(val['label_pred'])\n",
    "                            elif llm==\"Meta-Llama-3.1-8B-Instruct\":\n",
    "                                label_pred = extract_llama(val['label_pred'])\n",
    "                            elif llm==\"Mistral-Nemo-Instruct-2407\":\n",
    "                                label_pred = extract_mistral(val['label_pred'])\n",
    "                            elif llm==\"gemma-2-9b-it\":\n",
    "                                label_pred = extract_gemma(val['label_pred'])\n",
    "                            elif llm==\"gpt-4o\":\n",
    "                                label_pred = extract_gpt(val['label_pred'])\n",
    "                            if len(label_pred)==0:\n",
    "                                count+=1\n",
    "                        else:\n",
    "                            label_pred = []\n",
    "                        records.append({'id':key, 'true_label':label_true, 'pred_label':label_pred})\n",
    "                    print(f'Missing triplets {count}/{len(examples)}; seed-{seed}')\n",
    "                    df = pd.DataFrame(records)\n",
    "                    df.to_json(f'{output_file}/{file.name}', lines=True, orient='records')"
   ]
  }
 ],
 "metadata": {
  "kernelspec": {
   "display_name": "nlp-1.2",
   "language": "python",
   "name": "nlp-1.2"
  },
  "language_info": {
   "codemirror_mode": {
    "name": "ipython",
    "version": 3
   },
   "file_extension": ".py",
   "mimetype": "text/x-python",
   "name": "python",
   "nbconvert_exporter": "python",
   "pygments_lexer": "ipython3",
   "version": "3.8.12"
  }
 },
 "nbformat": 4,
 "nbformat_minor": 5
}
